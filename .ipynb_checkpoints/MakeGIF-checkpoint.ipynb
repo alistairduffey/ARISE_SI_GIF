{
 "cells": [
  {
   "cell_type": "code",
   "execution_count": 1,
   "id": "8eeefe9a-4f52-4b4f-9a26-068adf2b97ea",
   "metadata": {},
   "outputs": [
    {
     "name": "stdout",
     "output_type": "stream",
     "text": [
      "Defaulting to user installation because normal site-packages is not writeable\n",
      "Requirement already satisfied: pillow in /opt/jaspy/lib/python3.10/site-packages (9.2.0)\n"
     ]
    }
   ],
   "source": [
    "#! pip install pillow"
   ]
  },
  {
   "cell_type": "code",
   "execution_count": 9,
   "id": "226c7359-4af4-482d-8da4-2d91269e7afe",
   "metadata": {},
   "outputs": [],
   "source": [
    "import glob\n",
    "from PIL import Image\n",
    "def make_gif(frame_folder, outname):\n",
    "    frames = [Image.open(image) for image in glob.glob(f\"{frame_folder}/*\")]\n",
    "    frame_one = frames[0]\n",
    "    frame_one.save(outname, format=\"GIF\", append_images=frames,\n",
    "               save_all=True, duration=250, loop=1)\n"
   ]
  },
  {
   "cell_type": "code",
   "execution_count": 10,
   "id": "5b347387-7174-48dd-b0f0-f967ca89106b",
   "metadata": {},
   "outputs": [],
   "source": [
    "make_gif(\"Figures/siconcs_9_tas\", \"GIFS/siconcs_9_tas.gif\")"
   ]
  },
  {
   "cell_type": "code",
   "execution_count": 21,
   "id": "441659fc-f5d9-47c6-8075-ddac75c4f277",
   "metadata": {},
   "outputs": [],
   "source": [
    "#!conda run --name main pip install imageio"
   ]
  },
  {
   "cell_type": "code",
   "execution_count": null,
   "id": "a3422c9f-b089-4d4a-af1d-b8acffc35a70",
   "metadata": {},
   "outputs": [],
   "source": []
  },
  {
   "cell_type": "code",
   "execution_count": 2,
   "id": "c02e3ac9-f370-4bab-bdb3-7984662ae6b5",
   "metadata": {},
   "outputs": [],
   "source": [
    "import imageio\n",
    "import os"
   ]
  },
  {
   "cell_type": "code",
   "execution_count": null,
   "id": "0fd64f76-5b9e-40f4-b6ed-4c34e6d8db00",
   "metadata": {},
   "outputs": [],
   "source": []
  },
  {
   "cell_type": "code",
   "execution_count": 34,
   "id": "3423f40f-28ed-4505-98cb-28521d96f621",
   "metadata": {},
   "outputs": [
    {
     "name": "stderr",
     "output_type": "stream",
     "text": [
      "/tmp/ipykernel_1139/2869190090.py:6: DeprecationWarning: Starting with ImageIO v3 the behavior of this function will switch to that of iio.v3.imread. To keep the current behavior (and make this warning disappear) use `import imageio.v2 as imageio` or call `imageio.v2.imread` directly.\n",
      "  images.append(imageio.imread(folder + filename))\n"
     ]
    }
   ],
   "source": [
    "\n",
    "images = []\n",
    "folder = 'Figures/siconcs_9_tas/'\n",
    "filenames = os.listdir(folder)\n",
    "filenames = [ x for x in filenames if \".jpg\" in x ]\n",
    "for filename in filenames:\n",
    "    images.append(imageio.imread(folder + filename))\n",
    "imageio.mimsave('GIFS/siconcs_9_tas_IO.gif', images, duration=150)\n"
   ]
  },
  {
   "cell_type": "code",
   "execution_count": 3,
   "id": "bd012f5c-9697-4d13-91ed-b28c39162f16",
   "metadata": {},
   "outputs": [
    {
     "name": "stderr",
     "output_type": "stream",
     "text": [
      "/tmp/ipykernel_1304/2654777979.py:6: DeprecationWarning: Starting with ImageIO v3 the behavior of this function will switch to that of iio.v3.imread. To keep the current behavior (and make this warning disappear) use `import imageio.v2 as imageio` or call `imageio.v2.imread` directly.\n",
      "  images.append(imageio.imread(folder + filename))\n"
     ]
    }
   ],
   "source": [
    "images = []\n",
    "folder = 'Figures/siconcs_9_tas_mr/'\n",
    "filenames = os.listdir(folder)\n",
    "filenames = [ x for x in filenames if \".png\" in x ]\n",
    "for filename in filenames:\n",
    "    images.append(imageio.imread(folder + filename))\n",
    "imageio.mimsave('GIFS/siconcs_9_tas_png_mr.gif', images, duration=250, loop=0)\n"
   ]
  },
  {
   "cell_type": "code",
   "execution_count": null,
   "id": "abb4ded9-ae13-405f-a2c1-2d534807d7f3",
   "metadata": {},
   "outputs": [],
   "source": []
  }
 ],
 "metadata": {
  "kernelspec": {
   "display_name": "main",
   "language": "python",
   "name": "main"
  },
  "language_info": {
   "codemirror_mode": {
    "name": "ipython",
    "version": 3
   },
   "file_extension": ".py",
   "mimetype": "text/x-python",
   "name": "python",
   "nbconvert_exporter": "python",
   "pygments_lexer": "ipython3",
   "version": "3.10.5"
  }
 },
 "nbformat": 4,
 "nbformat_minor": 5
}
